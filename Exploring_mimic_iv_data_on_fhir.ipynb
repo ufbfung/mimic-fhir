{
  "nbformat": 4,
  "nbformat_minor": 0,
  "metadata": {
    "colab": {
      "provenance": [],
      "authorship_tag": "ABX9TyNGd6tZg9IidJwA5RXNUaYs",
      "include_colab_link": true
    },
    "kernelspec": {
      "name": "python3",
      "display_name": "Python 3"
    },
    "language_info": {
      "name": "python"
    }
  },
  "cells": [
    {
      "cell_type": "markdown",
      "metadata": {
        "id": "view-in-github",
        "colab_type": "text"
      },
      "source": [
        "<a href=\"https://colab.research.google.com/github/ufbfung/mimic-fhir/blob/main/Exploring_mimic_iv_data_on_fhir.ipynb\" target=\"_parent\"><img src=\"https://colab.research.google.com/assets/colab-badge.svg\" alt=\"Open In Colab\"/></a>"
      ]
    },
    {
      "cell_type": "markdown",
      "source": [
        "# Overview\n",
        "In this notebook, I will be exploring the mimic IV demo database on FHIR and perhaps create some interesting functions in python for it."
      ],
      "metadata": {
        "id": "90uDsMak3Oej"
      }
    },
    {
      "cell_type": "code",
      "execution_count": 24,
      "metadata": {
        "id": "zJLwzLUX3D7h"
      },
      "outputs": [],
      "source": [
        "import pandas as pd\n",
        "import json\n",
        "\n",
        "# Function to parse a single patient record from FHIR format\n",
        "def parse_patient_record(record):\n",
        "    patient_data = {\n",
        "        'id': record['id'],\n",
        "        'gender': record['gender'],\n",
        "        'birthDate': record['birthDate'],\n",
        "        'maritalStatus': record.get('maritalStatus', {}).get('coding', [{}])[0].get('code', None),\n",
        "        'race': None,\n",
        "        'ethnicity': None,\n",
        "        'birthSex': None\n",
        "    }\n",
        "\n",
        "    # Parsing extensions for race, ethnicity, and birthSex\n",
        "    for extension in record.get('extension', []):\n",
        "        if extension['url'] == 'http://hl7.org/fhir/us/core/StructureDefinition/us-core-race':\n",
        "            patient_data['race'] = extension['extension'][0]['valueCoding']['display']\n",
        "        elif extension['url'] == 'http://hl7.org/fhir/us/core/StructureDefinition/us-core-ethnicity':\n",
        "            patient_data['ethnicity'] = extension['extension'][0]['valueCoding']['display']\n",
        "        elif extension['url'] == 'http://hl7.org/fhir/us/core/StructureDefinition/us-core-birthsex':\n",
        "            patient_data['birthSex'] = extension['valueCode']\n",
        "\n",
        "    return patient_data\n",
        "\n",
        "# Function to parse a single observation record\n",
        "def parse_observation_record(record):\n",
        "    observation_data = {\n",
        "        'id': record.get('id', None),\n",
        "        'status': record.get('status', None),\n",
        "        'category_code': record.get('category', [{}])[0].get('coding', [{}])[0].get('code', None),\n",
        "        'test_code': record.get('code', {}).get('coding', [{}])[0].get('code', None),\n",
        "        'test_name': record.get('code', {}).get('coding', [{}])[0].get('display', None),\n",
        "        'patient_reference': record.get('subject', {}).get('reference', None),\n",
        "        'encounter_reference': record.get('encounter', {}).get('reference', None),\n",
        "        'effectiveDateTime': record.get('effectiveDateTime', None),\n",
        "        'value': None,\n",
        "        'unit': None\n",
        "    }\n",
        "\n",
        "    # Check if 'valueQuantity' exists before accessing it\n",
        "    if 'valueQuantity' in record:\n",
        "        observation_data['value'] = record['valueQuantity'].get('value', None)\n",
        "        observation_data['unit'] = record['valueQuantity'].get('unit', None)\n",
        "\n",
        "    return observation_data\n",
        "\n",
        "def find_observations_for_patient(df, patient_ref):\n",
        "    \"\"\"\n",
        "    Function to find all observation resources for a specific patient.\n",
        "\n",
        "    Parameters:\n",
        "    df (DataFrame): The DataFrame containing observation data.\n",
        "    patient_ref (str): The patient reference to filter by.\n",
        "\n",
        "    Returns:\n",
        "    DataFrame: A DataFrame containing only the observations for the specified patient.\n",
        "    \"\"\"\n",
        "    filtered_df = df[df['patient_reference'] == patient_ref]\n",
        "    return filtered_df\n",
        "\n",
        "specific_patient_ref = \"Patient/9c3ebb7e-d087-519e-bea4-31c3d4aac7ff\"\n",
        "observations_for_patient = find_observations_for_patient(df, specific_patient_ref)\n",
        "\n",
        "# To view the results\n",
        "observations_for_patient\n",
        "\n",
        "# Read the file for patients\n",
        "patients = []\n",
        "with open('Patient.ndjson', 'r') as file:\n",
        "    for line in file:\n",
        "        json_record = json.loads(line)\n",
        "        patients.append(parse_patient_record(json_record))\n",
        "\n",
        "# Reading the file for observations\n",
        "observations = []\n",
        "with open('ObservationLabevents.ndjson', 'r') as file:\n",
        "    for line in file:\n",
        "        json_record = json.loads(line)\n",
        "        observations.append(parse_observation_record(json_record))\n",
        "\n",
        "# Converting both lists to a dataframe\n",
        "patient_df = pd.DataFrame(patients)\n",
        "observation_df = pd.DataFrame(observations)\n",
        "\n",
        "# Using the main web app\n",
        "\n",
        "# Identify the patient of interest\n",
        "specific_patient_ref = \"Patient/9c3ebb7e-d087-519e-bea4-31c3d4aac7ff\"\n",
        "\n",
        "# Get all observations for that patient\n",
        "observations_for_patient = find_observations_for_patient(observation_df, specific_patient_ref)"
      ]
    },
    {
      "cell_type": "markdown",
      "source": [
        "# Goals for turning this into a web app\n",
        "\n",
        "- Upload the patient and lab files to github\n",
        "- Organize all the functions into a single section in this colab notebook\n",
        "- Remove any unnecessary artifacts in the notebook to keep it organized\n",
        "- Send all the code to chatGPT to convert to streamlit so I can deploy it as a web app"
      ],
      "metadata": {
        "id": "dR8AQaAXHX8t"
      }
    }
  ]
}